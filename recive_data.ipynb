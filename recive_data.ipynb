{
 "cells": [
  {
   "cell_type": "code",
   "execution_count": null,
   "metadata": {},
   "outputs": [],
   "source": [
    "# python kernal version 3.10\n",
    "!pip install pymysql==1.1.0 \n",
    "!pip install azure-eventhub==5.11.6 "
   ]
  },
  {
   "cell_type": "code",
   "execution_count": null,
   "metadata": {},
   "outputs": [],
   "source": [
    "import json\n",
    "import sqlite3\n",
    "from sqlite3 import Error\n",
    "import toml\n",
    "from azure.eventhub import EventHubConsumerClient"
   ]
  },
  {
   "cell_type": "code",
   "execution_count": null,
   "metadata": {},
   "outputs": [],
   "source": [
    "def receive_events_from_event_hub(connection_str, event_hub_name, consumer_group):\n",
    "    client = EventHubConsumerClient.from_connection_string(\n",
    "        conn_str=connection_str,\n",
    "        consumer_group=consumer_group,\n",
    "        eventhub_name=event_hub_name\n",
    "    )\n",
    "\n",
    "    try:\n",
    "        with client:\n",
    "            client.receive_batch(\n",
    "                on_event_batch=lambda events, partition_context: process_events(events, partition_context),\n",
    "                starting_position=\"-1\",  # Receive events from the beginning\n",
    "            )\n",
    "    except Exception as e:\n",
    "        print(f\"Failed to receive events: {e}\")"
   ]
  },
  {
   "cell_type": "code",
   "execution_count": null,
   "metadata": {},
   "outputs": [],
   "source": [
    "def process_events(events, partition_context):\n",
    "    # Connect to an SQLite database; adjust as necessary for your database\n",
    "    try:\n",
    "        connection = sqlite3.connect('deliveries.db')\n",
    "        cursor = connection.cursor()\n",
    "        for event in events:\n",
    "            # Assuming event data is a JSON string; adjust parsing as necessary\n",
    "            data = json.loads(event.body_as_str())\n",
    "            # Insert into the deliveries table; adjust columns as necessary\n",
    "            sql = \"INSERT INTO deliveries (username, pickup_location, delivery_location, date) VALUES (?, ?, ?, ?)\"\n",
    "            cursor.execute(sql, (data['username'], data['pickup_location'], data['delivery_location'], data['date']))\n",
    "        connection.commit()\n",
    "    except Error as e:\n",
    "        print(f\"Database error: {e}\")\n",
    "    finally:\n",
    "        if connection:\n",
    "            connection.close()\n",
    "\n",
    "    # Update checkpoint\n",
    "    partition_context.update_checkpoint()"
   ]
  },
  {
   "cell_type": "code",
   "execution_count": null,
   "metadata": {},
   "outputs": [],
   "source": [
    "def read_config_from_toml(file_path):\n",
    "    \"\"\"\n",
    "    Reads the configuration from a TOML file.\n",
    "\n",
    "    Parameters:\n",
    "    - file_path: Path to the TOML configuration file.\n",
    "\n",
    "    Returns:\n",
    "    A tuple containing the connection string and Event Hub name.\n",
    "    \"\"\"\n",
    "    config = toml.load(file_path)\n",
    "    return config['event_hub']['connection_string'], config['event_hub']['name']"
   ]
  },
  {
   "cell_type": "code",
   "execution_count": null,
   "metadata": {},
   "outputs": [],
   "source": [
    "# Example usage\n",
    "connection_string, event_hub_name = read_config_from_toml('config.toml')\n",
    "consumer_group = \"$Default\"  \n",
    "\n",
    "receive_events_from_event_hub(connection_string, event_hub_name, consumer_group)"
   ]
  }
 ],
 "metadata": {
  "kernelspec": {
   "display_name": "event_hubs",
   "language": "python",
   "name": "python3"
  },
  "language_info": {
   "codemirror_mode": {
    "name": "ipython",
    "version": 3
   },
   "file_extension": ".py",
   "mimetype": "text/x-python",
   "name": "python",
   "nbconvert_exporter": "python",
   "pygments_lexer": "ipython3",
   "version": "3.10.13"
  }
 },
 "nbformat": 4,
 "nbformat_minor": 2
}
