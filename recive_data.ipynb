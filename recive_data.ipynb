{
 "cells": [
  {
   "cell_type": "code",
   "execution_count": 24,
   "metadata": {},
   "outputs": [
    {
     "name": "stdout",
     "output_type": "stream",
     "text": [
      "Requirement already satisfied: pymysql==1.1.0 in c:\\users\\farisalanazi\\miniconda3\\envs\\event_hubs\\lib\\site-packages (1.1.0)\n",
      "Requirement already satisfied: azure-eventhub==5.11.6 in c:\\users\\farisalanazi\\miniconda3\\envs\\event_hubs\\lib\\site-packages (5.11.6)\n",
      "Requirement already satisfied: azure-core<2.0.0,>=1.14.0 in c:\\users\\farisalanazi\\miniconda3\\envs\\event_hubs\\lib\\site-packages (from azure-eventhub==5.11.6) (1.30.0)\n",
      "Requirement already satisfied: typing-extensions>=4.0.1 in c:\\users\\farisalanazi\\miniconda3\\envs\\event_hubs\\lib\\site-packages (from azure-eventhub==5.11.6) (4.9.0)\n",
      "Requirement already satisfied: requests>=2.21.0 in c:\\users\\farisalanazi\\miniconda3\\envs\\event_hubs\\lib\\site-packages (from azure-core<2.0.0,>=1.14.0->azure-eventhub==5.11.6) (2.31.0)\n",
      "Requirement already satisfied: six>=1.11.0 in c:\\users\\farisalanazi\\miniconda3\\envs\\event_hubs\\lib\\site-packages (from azure-core<2.0.0,>=1.14.0->azure-eventhub==5.11.6) (1.16.0)\n",
      "Requirement already satisfied: charset-normalizer<4,>=2 in c:\\users\\farisalanazi\\miniconda3\\envs\\event_hubs\\lib\\site-packages (from requests>=2.21.0->azure-core<2.0.0,>=1.14.0->azure-eventhub==5.11.6) (3.3.2)\n",
      "Requirement already satisfied: idna<4,>=2.5 in c:\\users\\farisalanazi\\miniconda3\\envs\\event_hubs\\lib\\site-packages (from requests>=2.21.0->azure-core<2.0.0,>=1.14.0->azure-eventhub==5.11.6) (3.6)\n",
      "Requirement already satisfied: urllib3<3,>=1.21.1 in c:\\users\\farisalanazi\\miniconda3\\envs\\event_hubs\\lib\\site-packages (from requests>=2.21.0->azure-core<2.0.0,>=1.14.0->azure-eventhub==5.11.6) (2.2.0)\n",
      "Requirement already satisfied: certifi>=2017.4.17 in c:\\users\\farisalanazi\\miniconda3\\envs\\event_hubs\\lib\\site-packages (from requests>=2.21.0->azure-core<2.0.0,>=1.14.0->azure-eventhub==5.11.6) (2024.2.2)\n"
     ]
    }
   ],
   "source": [
    "# python kernal version 3.10\n",
    "!pip install pymysql==1.1.0 \n",
    "!pip install azure-eventhub==5.11.6 "
   ]
  },
  {
   "cell_type": "code",
   "execution_count": 25,
   "metadata": {},
   "outputs": [],
   "source": [
    "import json\n",
    "import sqlite3\n",
    "from sqlite3 import Error\n",
    "import toml\n",
    "from azure.eventhub import EventHubConsumerClient"
   ]
  },
  {
   "cell_type": "code",
   "execution_count": 26,
   "metadata": {},
   "outputs": [],
   "source": [
    "def receive_events_from_event_hub(connection_str, event_hub_name, consumer_group):\n",
    "    client = EventHubConsumerClient.from_connection_string(\n",
    "        conn_str=connection_str,\n",
    "        consumer_group=consumer_group,\n",
    "        eventhub_name=event_hub_name\n",
    "    )\n",
    "\n",
    "    try:\n",
    "        with client:\n",
    "            client.receive_batch(\n",
    "                on_event_batch=lambda events, partition_context: process_events(events, partition_context),\n",
    "                starting_position=\"-1\",  # Receive events from the beginning\n",
    "            )\n",
    "    except Exception as e:\n",
    "        print(f\"Failed to receive events: {e}\")"
   ]
  },
  {
   "cell_type": "code",
   "execution_count": 27,
   "metadata": {},
   "outputs": [],
   "source": [
    "def process_events(events, partition_context):\n",
    "    # Connect to an SQLite database; adjust as necessary for your database\n",
    "    try:\n",
    "        connection = sqlite3.connect('deliveries.db')\n",
    "        cursor = connection.cursor()\n",
    "        for event in events:\n",
    "            # Assuming event data is a JSON string; adjust parsing as necessary\n",
    "            data = json.loads(event.body_as_str())\n",
    "            # Insert into the deliveries table; adjust columns as necessary\n",
    "            sql = \"INSERT INTO deliveries (username, pickup_location, delivery_location, date) VALUES (?, ?, ?, ?)\"\n",
    "            cursor.execute(sql, (data['username'], data['pickup_location'], data['delivery_location'], data['date']))\n",
    "        connection.commit()\n",
    "    except Error as e:\n",
    "        print(f\"Database error: {e}\")\n",
    "    finally:\n",
    "        if connection:\n",
    "            connection.close()\n",
    "\n",
    "    # Update checkpoint\n",
    "    partition_context.update_checkpoint()"
   ]
  },
  {
   "cell_type": "code",
   "execution_count": 28,
   "metadata": {},
   "outputs": [],
   "source": [
    "def read_config_from_toml(file_path):\n",
    "    \"\"\"\n",
    "    Reads the configuration from a TOML file.\n",
    "\n",
    "    Parameters:\n",
    "    - file_path: Path to the TOML configuration file.\n",
    "\n",
    "    Returns:\n",
    "    A tuple containing the connection string and Event Hub name.\n",
    "    \"\"\"\n",
    "    config = toml.load(file_path)\n",
    "    return config['event_hub']['connection_string'], config['event_hub']['name']"
   ]
  },
  {
   "cell_type": "code",
   "execution_count": 29,
   "metadata": {},
   "outputs": [
    {
     "name": "stderr",
     "output_type": "stream",
     "text": [
      "Unable to attach new link: ValueError('Invalid link')\n",
      "Unable to attach new link: ValueError('Invalid link')\n",
      "Unable to attach new link: ValueError('Invalid link')\n",
      "Unable to attach new link: ValueError('Invalid link')\n"
     ]
    },
    {
     "ename": "KeyboardInterrupt",
     "evalue": "",
     "output_type": "error",
     "traceback": [
      "\u001b[1;31m---------------------------------------------------------------------------\u001b[0m",
      "\u001b[1;31mKeyboardInterrupt\u001b[0m                         Traceback (most recent call last)",
      "Cell \u001b[1;32mIn[29], line 5\u001b[0m\n\u001b[0;32m      2\u001b[0m connection_string, event_hub_name \u001b[38;5;241m=\u001b[39m read_config_from_toml(\u001b[38;5;124m'\u001b[39m\u001b[38;5;124mconfig.toml\u001b[39m\u001b[38;5;124m'\u001b[39m)\n\u001b[0;32m      3\u001b[0m consumer_group \u001b[38;5;241m=\u001b[39m \u001b[38;5;124m\"\u001b[39m\u001b[38;5;124m$Default\u001b[39m\u001b[38;5;124m\"\u001b[39m  \n\u001b[1;32m----> 5\u001b[0m \u001b[43mreceive_events_from_event_hub\u001b[49m\u001b[43m(\u001b[49m\u001b[43mconnection_string\u001b[49m\u001b[43m,\u001b[49m\u001b[43m \u001b[49m\u001b[43mevent_hub_name\u001b[49m\u001b[43m,\u001b[49m\u001b[43m \u001b[49m\u001b[43mconsumer_group\u001b[49m\u001b[43m)\u001b[49m\n",
      "Cell \u001b[1;32mIn[26], line 10\u001b[0m, in \u001b[0;36mreceive_events_from_event_hub\u001b[1;34m(connection_str, event_hub_name, consumer_group)\u001b[0m\n\u001b[0;32m      8\u001b[0m \u001b[38;5;28;01mtry\u001b[39;00m:\n\u001b[0;32m      9\u001b[0m     \u001b[38;5;28;01mwith\u001b[39;00m client:\n\u001b[1;32m---> 10\u001b[0m         \u001b[43mclient\u001b[49m\u001b[38;5;241;43m.\u001b[39;49m\u001b[43mreceive_batch\u001b[49m\u001b[43m(\u001b[49m\n\u001b[0;32m     11\u001b[0m \u001b[43m            \u001b[49m\u001b[43mon_event_batch\u001b[49m\u001b[38;5;241;43m=\u001b[39;49m\u001b[38;5;28;43;01mlambda\u001b[39;49;00m\u001b[43m \u001b[49m\u001b[43mevents\u001b[49m\u001b[43m,\u001b[49m\u001b[43m \u001b[49m\u001b[43mpartition_context\u001b[49m\u001b[43m:\u001b[49m\u001b[43m \u001b[49m\u001b[43mprocess_events\u001b[49m\u001b[43m(\u001b[49m\u001b[43mevents\u001b[49m\u001b[43m,\u001b[49m\u001b[43m \u001b[49m\u001b[43mpartition_context\u001b[49m\u001b[43m)\u001b[49m\u001b[43m,\u001b[49m\n\u001b[0;32m     12\u001b[0m \u001b[43m            \u001b[49m\u001b[43mstarting_position\u001b[49m\u001b[38;5;241;43m=\u001b[39;49m\u001b[38;5;124;43m\"\u001b[39;49m\u001b[38;5;124;43m-1\u001b[39;49m\u001b[38;5;124;43m\"\u001b[39;49m\u001b[43m,\u001b[49m\u001b[43m  \u001b[49m\u001b[38;5;66;43;03m# Receive events from the beginning\u001b[39;49;00m\n\u001b[0;32m     13\u001b[0m \u001b[43m        \u001b[49m\u001b[43m)\u001b[49m\n\u001b[0;32m     14\u001b[0m \u001b[38;5;28;01mexcept\u001b[39;00m \u001b[38;5;167;01mException\u001b[39;00m \u001b[38;5;28;01mas\u001b[39;00m e:\n\u001b[0;32m     15\u001b[0m     \u001b[38;5;28mprint\u001b[39m(\u001b[38;5;124mf\u001b[39m\u001b[38;5;124m\"\u001b[39m\u001b[38;5;124mFailed to receive events: \u001b[39m\u001b[38;5;132;01m{\u001b[39;00me\u001b[38;5;132;01m}\u001b[39;00m\u001b[38;5;124m\"\u001b[39m)\n",
      "File \u001b[1;32mc:\\Users\\FarisAlanazi\\miniconda3\\envs\\event_hubs\\lib\\site-packages\\azure\\eventhub\\_consumer_client.py:550\u001b[0m, in \u001b[0;36mEventHubConsumerClient.receive_batch\u001b[1;34m(self, on_event_batch, **kwargs)\u001b[0m\n\u001b[0;32m    469\u001b[0m \u001b[38;5;28;01mdef\u001b[39;00m \u001b[38;5;21mreceive_batch\u001b[39m(\n\u001b[0;32m    470\u001b[0m         \u001b[38;5;28mself\u001b[39m,\n\u001b[0;32m    471\u001b[0m         on_event_batch: Callable[[\u001b[38;5;124m\"\u001b[39m\u001b[38;5;124mPartitionContext\u001b[39m\u001b[38;5;124m\"\u001b[39m, List[\u001b[38;5;124m\"\u001b[39m\u001b[38;5;124mEventData\u001b[39m\u001b[38;5;124m\"\u001b[39m]], \u001b[38;5;28;01mNone\u001b[39;00m],\n\u001b[0;32m    472\u001b[0m         \u001b[38;5;241m*\u001b[39m\u001b[38;5;241m*\u001b[39mkwargs: Any\n\u001b[0;32m    473\u001b[0m     ) \u001b[38;5;241m-\u001b[39m\u001b[38;5;241m>\u001b[39m \u001b[38;5;28;01mNone\u001b[39;00m:\n\u001b[0;32m    474\u001b[0m \u001b[38;5;250m    \u001b[39m\u001b[38;5;124;03m\"\"\"Receive events from partition(s), with optional load-balancing and checkpointing.\u001b[39;00m\n\u001b[0;32m    475\u001b[0m \n\u001b[0;32m    476\u001b[0m \u001b[38;5;124;03m    :param on_event_batch: The callback function for handling a batch of received events. The callback takes two\u001b[39;00m\n\u001b[1;32m   (...)\u001b[0m\n\u001b[0;32m    548\u001b[0m \u001b[38;5;124;03m            :caption: Receive events in batches from the EventHub.\u001b[39;00m\n\u001b[0;32m    549\u001b[0m \u001b[38;5;124;03m    \"\"\"\u001b[39;00m\n\u001b[1;32m--> 550\u001b[0m     \u001b[38;5;28mself\u001b[39m\u001b[38;5;241m.\u001b[39m_receive(on_event_batch, batch\u001b[38;5;241m=\u001b[39m\u001b[38;5;28;01mTrue\u001b[39;00m, \u001b[38;5;241m*\u001b[39m\u001b[38;5;241m*\u001b[39mkwargs)\n",
      "File \u001b[1;32mc:\\Users\\FarisAlanazi\\miniconda3\\envs\\event_hubs\\lib\\site-packages\\azure\\eventhub\\_consumer_client.py:384\u001b[0m, in \u001b[0;36mEventHubConsumerClient._receive\u001b[1;34m(self, on_event, **kwargs)\u001b[0m\n\u001b[0;32m    380\u001b[0m     \u001b[38;5;28mself\u001b[39m\u001b[38;5;241m.\u001b[39m_event_processors[\n\u001b[0;32m    381\u001b[0m         (\u001b[38;5;28mself\u001b[39m\u001b[38;5;241m.\u001b[39m_consumer_group, partition_id \u001b[38;5;129;01mor\u001b[39;00m ALL_PARTITIONS)\n\u001b[0;32m    382\u001b[0m     ] \u001b[38;5;241m=\u001b[39m event_processor\n\u001b[0;32m    383\u001b[0m \u001b[38;5;28;01mtry\u001b[39;00m:\n\u001b[1;32m--> 384\u001b[0m     \u001b[43mevent_processor\u001b[49m\u001b[38;5;241;43m.\u001b[39;49m\u001b[43mstart\u001b[49m\u001b[43m(\u001b[49m\u001b[43m)\u001b[49m\n\u001b[0;32m    385\u001b[0m \u001b[38;5;28;01mfinally\u001b[39;00m:\n\u001b[0;32m    386\u001b[0m     event_processor\u001b[38;5;241m.\u001b[39mstop()\n",
      "File \u001b[1;32mc:\\Users\\FarisAlanazi\\miniconda3\\envs\\event_hubs\\lib\\site-packages\\azure\\eventhub\\_eventprocessor\\event_processor.py:399\u001b[0m, in \u001b[0;36mEventProcessor.start\u001b[1;34m(self)\u001b[0m\n\u001b[0;32m    394\u001b[0m             \u001b[38;5;28mself\u001b[39m\u001b[38;5;241m.\u001b[39m_close_consumer(\n\u001b[0;32m    395\u001b[0m                 partition_id, consumer, CloseReason\u001b[38;5;241m.\u001b[39mOWNERSHIP_LOST\n\u001b[0;32m    396\u001b[0m             )\n\u001b[0;32m    397\u001b[0m             \u001b[38;5;28;01mcontinue\u001b[39;00m\n\u001b[1;32m--> 399\u001b[0m         \u001b[38;5;28;43mself\u001b[39;49m\u001b[38;5;241;43m.\u001b[39;49m\u001b[43m_do_receive\u001b[49m\u001b[43m(\u001b[49m\u001b[43mpartition_id\u001b[49m\u001b[43m,\u001b[49m\u001b[43m \u001b[49m\u001b[43mconsumer\u001b[49m\u001b[43m)\u001b[49m\n\u001b[0;32m    401\u001b[0m \u001b[38;5;28;01mwith\u001b[39;00m \u001b[38;5;28mself\u001b[39m\u001b[38;5;241m.\u001b[39m_lock:\n\u001b[0;32m    402\u001b[0m     \u001b[38;5;28;01mfor\u001b[39;00m partition_id, consumer \u001b[38;5;129;01min\u001b[39;00m \u001b[38;5;28mlist\u001b[39m(\u001b[38;5;28mself\u001b[39m\u001b[38;5;241m.\u001b[39m_consumers\u001b[38;5;241m.\u001b[39mitems()):\n",
      "File \u001b[1;32mc:\\Users\\FarisAlanazi\\miniconda3\\envs\\event_hubs\\lib\\site-packages\\azure\\eventhub\\_eventprocessor\\event_processor.py:364\u001b[0m, in \u001b[0;36mEventProcessor._do_receive\u001b[1;34m(self, partition_id, consumer)\u001b[0m\n\u001b[0;32m    358\u001b[0m \u001b[38;5;250m\u001b[39m\u001b[38;5;124;03m\"\"\"Call the consumer.receive() and handle exceptions if any after it exhausts retries.\u001b[39;00m\n\u001b[0;32m    359\u001b[0m \n\u001b[0;32m    360\u001b[0m \u001b[38;5;124;03m:param str partition_id: The partition id.\u001b[39;00m\n\u001b[0;32m    361\u001b[0m \u001b[38;5;124;03m:param ~azure.eventhub._consumer.EventHubConsumer consumer: The consumer object.\u001b[39;00m\n\u001b[0;32m    362\u001b[0m \u001b[38;5;124;03m\"\"\"\u001b[39;00m\n\u001b[0;32m    363\u001b[0m \u001b[38;5;28;01mtry\u001b[39;00m:\n\u001b[1;32m--> 364\u001b[0m     \u001b[43mconsumer\u001b[49m\u001b[38;5;241;43m.\u001b[39;49m\u001b[43mreceive\u001b[49m\u001b[43m(\u001b[49m\u001b[38;5;28;43mself\u001b[39;49m\u001b[38;5;241;43m.\u001b[39;49m\u001b[43m_batch\u001b[49m\u001b[43m,\u001b[49m\u001b[43m \u001b[49m\u001b[38;5;28;43mself\u001b[39;49m\u001b[38;5;241;43m.\u001b[39;49m\u001b[43m_max_batch_size\u001b[49m\u001b[43m,\u001b[49m\u001b[43m \u001b[49m\u001b[38;5;28;43mself\u001b[39;49m\u001b[38;5;241;43m.\u001b[39;49m\u001b[43m_max_wait_time\u001b[49m\u001b[43m)\u001b[49m\n\u001b[0;32m    365\u001b[0m \u001b[38;5;28;01mexcept\u001b[39;00m \u001b[38;5;167;01mException\u001b[39;00m \u001b[38;5;28;01mas\u001b[39;00m error:  \u001b[38;5;66;03m# pylint:disable=broad-except\u001b[39;00m\n\u001b[0;32m    366\u001b[0m     _LOGGER\u001b[38;5;241m.\u001b[39mwarning(\n\u001b[0;32m    367\u001b[0m         \u001b[38;5;124m\"\u001b[39m\u001b[38;5;124mEventProcessor instance \u001b[39m\u001b[38;5;132;01m%r\u001b[39;00m\u001b[38;5;124m of eventhub \u001b[39m\u001b[38;5;132;01m%r\u001b[39;00m\u001b[38;5;124m partition \u001b[39m\u001b[38;5;132;01m%r\u001b[39;00m\u001b[38;5;124m consumer group \u001b[39m\u001b[38;5;132;01m%r\u001b[39;00m\u001b[38;5;124m. \u001b[39m\u001b[38;5;124m\"\u001b[39m\n\u001b[0;32m    368\u001b[0m         \u001b[38;5;124m\"\u001b[39m\u001b[38;5;124mAn error occurred while receiving. The exception is \u001b[39m\u001b[38;5;132;01m%r\u001b[39;00m\u001b[38;5;124m.\u001b[39m\u001b[38;5;124m\"\u001b[39m,\n\u001b[1;32m   (...)\u001b[0m\n\u001b[0;32m    373\u001b[0m         error,\n\u001b[0;32m    374\u001b[0m     )\n",
      "File \u001b[1;32mc:\\Users\\FarisAlanazi\\miniconda3\\envs\\event_hubs\\lib\\site-packages\\azure\\eventhub\\_consumer.py:232\u001b[0m, in \u001b[0;36mEventHubConsumer.receive\u001b[1;34m(self, batch, max_batch_size, max_wait_time)\u001b[0m\n\u001b[0;32m    230\u001b[0m \u001b[38;5;28;01mwhile\u001b[39;00m retried_times \u001b[38;5;241m<\u001b[39m\u001b[38;5;241m=\u001b[39m max_retries:\n\u001b[0;32m    231\u001b[0m     \u001b[38;5;28;01mtry\u001b[39;00m:\n\u001b[1;32m--> 232\u001b[0m         \u001b[38;5;28;01mif\u001b[39;00m \u001b[38;5;28;43mself\u001b[39;49m\u001b[38;5;241;43m.\u001b[39;49m\u001b[43m_open\u001b[49m\u001b[43m(\u001b[49m\u001b[43m)\u001b[49m:\n\u001b[0;32m    233\u001b[0m             \u001b[38;5;28mself\u001b[39m\u001b[38;5;241m.\u001b[39m_handler\u001b[38;5;241m.\u001b[39mdo_work(batch\u001b[38;5;241m=\u001b[39m\u001b[38;5;28mself\u001b[39m\u001b[38;5;241m.\u001b[39m_prefetch)  \u001b[38;5;66;03m# type: ignore\u001b[39;00m\n\u001b[0;32m    234\u001b[0m         \u001b[38;5;28;01mbreak\u001b[39;00m\n",
      "File \u001b[1;32mc:\\Users\\FarisAlanazi\\miniconda3\\envs\\event_hubs\\lib\\site-packages\\azure\\eventhub\\_consumer.py:209\u001b[0m, in \u001b[0;36mEventHubConsumer._open\u001b[1;34m(self)\u001b[0m\n\u001b[0;32m    205\u001b[0m conn \u001b[38;5;241m=\u001b[39m \u001b[38;5;28mself\u001b[39m\u001b[38;5;241m.\u001b[39m_client\u001b[38;5;241m.\u001b[39m_conn_manager\u001b[38;5;241m.\u001b[39mget_connection(  \u001b[38;5;66;03m# pylint: disable=protected-access\u001b[39;00m\n\u001b[0;32m    206\u001b[0m     host\u001b[38;5;241m=\u001b[39m\u001b[38;5;28mself\u001b[39m\u001b[38;5;241m.\u001b[39m_client\u001b[38;5;241m.\u001b[39m_address\u001b[38;5;241m.\u001b[39mhostname, auth\u001b[38;5;241m=\u001b[39mauth\n\u001b[0;32m    207\u001b[0m )\n\u001b[0;32m    208\u001b[0m \u001b[38;5;28mself\u001b[39m\u001b[38;5;241m.\u001b[39m_handler \u001b[38;5;241m=\u001b[39m cast(\u001b[38;5;124m\"\u001b[39m\u001b[38;5;124mReceiveClient\u001b[39m\u001b[38;5;124m\"\u001b[39m, \u001b[38;5;28mself\u001b[39m\u001b[38;5;241m.\u001b[39m_handler)\n\u001b[1;32m--> 209\u001b[0m \u001b[38;5;28;43mself\u001b[39;49m\u001b[38;5;241;43m.\u001b[39;49m\u001b[43m_handler\u001b[49m\u001b[38;5;241;43m.\u001b[39;49m\u001b[43mopen\u001b[49m\u001b[43m(\u001b[49m\u001b[43mconnection\u001b[49m\u001b[38;5;241;43m=\u001b[39;49m\u001b[43mconn\u001b[49m\u001b[43m)\u001b[49m\n\u001b[0;32m    210\u001b[0m \u001b[38;5;28mself\u001b[39m\u001b[38;5;241m.\u001b[39mhandler_ready \u001b[38;5;241m=\u001b[39m \u001b[38;5;28;01mFalse\u001b[39;00m\n\u001b[0;32m    211\u001b[0m \u001b[38;5;28mself\u001b[39m\u001b[38;5;241m.\u001b[39mrunning \u001b[38;5;241m=\u001b[39m \u001b[38;5;28;01mTrue\u001b[39;00m\n",
      "File \u001b[1;32mc:\\Users\\FarisAlanazi\\miniconda3\\envs\\event_hubs\\lib\\site-packages\\azure\\eventhub\\_pyamqp\\client.py:330\u001b[0m, in \u001b[0;36mAMQPClient.open\u001b[1;34m(self, connection)\u001b[0m\n\u001b[0;32m    314\u001b[0m \u001b[38;5;28;01melif\u001b[39;00m \u001b[38;5;129;01mnot\u001b[39;00m \u001b[38;5;28mself\u001b[39m\u001b[38;5;241m.\u001b[39m_connection:\n\u001b[0;32m    315\u001b[0m     \u001b[38;5;28mself\u001b[39m\u001b[38;5;241m.\u001b[39m_connection \u001b[38;5;241m=\u001b[39m Connection(\n\u001b[0;32m    316\u001b[0m         \u001b[38;5;124m\"\u001b[39m\u001b[38;5;124mamqps://\u001b[39m\u001b[38;5;124m\"\u001b[39m \u001b[38;5;241m+\u001b[39m \u001b[38;5;28mself\u001b[39m\u001b[38;5;241m.\u001b[39m_hostname,\n\u001b[0;32m    317\u001b[0m         sasl_credential\u001b[38;5;241m=\u001b[39m\u001b[38;5;28mself\u001b[39m\u001b[38;5;241m.\u001b[39m_auth\u001b[38;5;241m.\u001b[39msasl,\n\u001b[1;32m   (...)\u001b[0m\n\u001b[0;32m    328\u001b[0m         socket_timeout\u001b[38;5;241m=\u001b[39m\u001b[38;5;28mself\u001b[39m\u001b[38;5;241m.\u001b[39m_socket_timeout,\n\u001b[0;32m    329\u001b[0m     )\n\u001b[1;32m--> 330\u001b[0m     \u001b[38;5;28;43mself\u001b[39;49m\u001b[38;5;241;43m.\u001b[39;49m\u001b[43m_connection\u001b[49m\u001b[38;5;241;43m.\u001b[39;49m\u001b[43mopen\u001b[49m\u001b[43m(\u001b[49m\u001b[43m)\u001b[49m\n\u001b[0;32m    331\u001b[0m \u001b[38;5;28;01mif\u001b[39;00m \u001b[38;5;129;01mnot\u001b[39;00m \u001b[38;5;28mself\u001b[39m\u001b[38;5;241m.\u001b[39m_session:\n\u001b[0;32m    332\u001b[0m     \u001b[38;5;28mself\u001b[39m\u001b[38;5;241m.\u001b[39m_session \u001b[38;5;241m=\u001b[39m \u001b[38;5;28mself\u001b[39m\u001b[38;5;241m.\u001b[39m_connection\u001b[38;5;241m.\u001b[39mcreate_session(\n\u001b[0;32m    333\u001b[0m         incoming_window\u001b[38;5;241m=\u001b[39m\u001b[38;5;28mself\u001b[39m\u001b[38;5;241m.\u001b[39m_incoming_window,\n\u001b[0;32m    334\u001b[0m         outgoing_window\u001b[38;5;241m=\u001b[39m\u001b[38;5;28mself\u001b[39m\u001b[38;5;241m.\u001b[39m_outgoing_window,\n\u001b[0;32m    335\u001b[0m     )\n",
      "File \u001b[1;32mc:\\Users\\FarisAlanazi\\miniconda3\\envs\\event_hubs\\lib\\site-packages\\azure\\eventhub\\_pyamqp\\_connection.py:861\u001b[0m, in \u001b[0;36mConnection.open\u001b[1;34m(self, wait)\u001b[0m\n\u001b[0;32m    852\u001b[0m \u001b[38;5;28;01mdef\u001b[39;00m \u001b[38;5;21mopen\u001b[39m(\u001b[38;5;28mself\u001b[39m, wait: \u001b[38;5;28mbool\u001b[39m \u001b[38;5;241m=\u001b[39m \u001b[38;5;28;01mFalse\u001b[39;00m) \u001b[38;5;241m-\u001b[39m\u001b[38;5;241m>\u001b[39m \u001b[38;5;28;01mNone\u001b[39;00m:\n\u001b[0;32m    853\u001b[0m \u001b[38;5;250m    \u001b[39m\u001b[38;5;124;03m\"\"\"Send an Open frame to start the connection.\u001b[39;00m\n\u001b[0;32m    854\u001b[0m \n\u001b[0;32m    855\u001b[0m \u001b[38;5;124;03m    Alternatively, this will be called on entering a Connection context manager.\u001b[39;00m\n\u001b[1;32m   (...)\u001b[0m\n\u001b[0;32m    859\u001b[0m \u001b[38;5;124;03m    :rtype: None\u001b[39;00m\n\u001b[0;32m    860\u001b[0m \u001b[38;5;124;03m    \"\"\"\u001b[39;00m\n\u001b[1;32m--> 861\u001b[0m     \u001b[38;5;28;43mself\u001b[39;49m\u001b[38;5;241;43m.\u001b[39;49m\u001b[43m_connect\u001b[49m\u001b[43m(\u001b[49m\u001b[43m)\u001b[49m\n\u001b[0;32m    862\u001b[0m     \u001b[38;5;28mself\u001b[39m\u001b[38;5;241m.\u001b[39m_outgoing_open()\n\u001b[0;32m    863\u001b[0m     \u001b[38;5;28;01mif\u001b[39;00m \u001b[38;5;28mself\u001b[39m\u001b[38;5;241m.\u001b[39mstate \u001b[38;5;241m==\u001b[39m ConnectionState\u001b[38;5;241m.\u001b[39mHDR_EXCH:\n",
      "File \u001b[1;32mc:\\Users\\FarisAlanazi\\miniconda3\\envs\\event_hubs\\lib\\site-packages\\azure\\eventhub\\_pyamqp\\_connection.py:231\u001b[0m, in \u001b[0;36mConnection._connect\u001b[1;34m(self)\u001b[0m\n\u001b[0;32m    229\u001b[0m \u001b[38;5;28;01mtry\u001b[39;00m:\n\u001b[0;32m    230\u001b[0m     \u001b[38;5;28;01mif\u001b[39;00m \u001b[38;5;129;01mnot\u001b[39;00m \u001b[38;5;28mself\u001b[39m\u001b[38;5;241m.\u001b[39mstate:\n\u001b[1;32m--> 231\u001b[0m         \u001b[38;5;28;43mself\u001b[39;49m\u001b[38;5;241;43m.\u001b[39;49m\u001b[43m_transport\u001b[49m\u001b[38;5;241;43m.\u001b[39;49m\u001b[43mconnect\u001b[49m\u001b[43m(\u001b[49m\u001b[43m)\u001b[49m\n\u001b[0;32m    232\u001b[0m         \u001b[38;5;28mself\u001b[39m\u001b[38;5;241m.\u001b[39m_set_state(ConnectionState\u001b[38;5;241m.\u001b[39mSTART)\n\u001b[0;32m    233\u001b[0m     \u001b[38;5;28mself\u001b[39m\u001b[38;5;241m.\u001b[39m_transport\u001b[38;5;241m.\u001b[39mnegotiate()\n",
      "File \u001b[1;32mc:\\Users\\FarisAlanazi\\miniconda3\\envs\\event_hubs\\lib\\site-packages\\azure\\eventhub\\_pyamqp\\_transport.py:195\u001b[0m, in \u001b[0;36m_AbstractTransport.connect\u001b[1;34m(self)\u001b[0m\n\u001b[0;32m    193\u001b[0m     \u001b[38;5;28;01mreturn\u001b[39;00m\n\u001b[0;32m    194\u001b[0m \u001b[38;5;28mself\u001b[39m\u001b[38;5;241m.\u001b[39m_connect(\u001b[38;5;28mself\u001b[39m\u001b[38;5;241m.\u001b[39mhost, \u001b[38;5;28mself\u001b[39m\u001b[38;5;241m.\u001b[39mport, \u001b[38;5;28mself\u001b[39m\u001b[38;5;241m.\u001b[39mconnect_timeout)\n\u001b[1;32m--> 195\u001b[0m \u001b[38;5;28;43mself\u001b[39;49m\u001b[38;5;241;43m.\u001b[39;49m\u001b[43m_init_socket\u001b[49m\u001b[43m(\u001b[49m\n\u001b[0;32m    196\u001b[0m \u001b[43m    \u001b[49m\u001b[38;5;28;43mself\u001b[39;49m\u001b[38;5;241;43m.\u001b[39;49m\u001b[43msocket_settings\u001b[49m\u001b[43m,\u001b[49m\n\u001b[0;32m    197\u001b[0m \u001b[43m    \u001b[49m\u001b[38;5;28;43mself\u001b[39;49m\u001b[38;5;241;43m.\u001b[39;49m\u001b[43msocket_timeout\u001b[49m\u001b[43m,\u001b[49m\n\u001b[0;32m    198\u001b[0m \u001b[43m\u001b[49m\u001b[43m)\u001b[49m\n\u001b[0;32m    199\u001b[0m \u001b[38;5;66;03m# we've sent the banner; signal connect\u001b[39;00m\n\u001b[0;32m    200\u001b[0m \u001b[38;5;66;03m# EINTR, EAGAIN, EWOULDBLOCK would signal that the banner\u001b[39;00m\n\u001b[0;32m    201\u001b[0m \u001b[38;5;66;03m# has _not_ been sent\u001b[39;00m\n\u001b[0;32m    202\u001b[0m \u001b[38;5;28mself\u001b[39m\u001b[38;5;241m.\u001b[39mconnected \u001b[38;5;241m=\u001b[39m \u001b[38;5;28;01mTrue\u001b[39;00m\n",
      "File \u001b[1;32mc:\\Users\\FarisAlanazi\\miniconda3\\envs\\event_hubs\\lib\\site-packages\\azure\\eventhub\\_pyamqp\\_transport.py:331\u001b[0m, in \u001b[0;36m_AbstractTransport._init_socket\u001b[1;34m(self, socket_settings, socket_timeout)\u001b[0m\n\u001b[0;32m    319\u001b[0m \u001b[38;5;28mself\u001b[39m\u001b[38;5;241m.\u001b[39m_set_socket_options(socket_settings)\n\u001b[0;32m    321\u001b[0m \u001b[38;5;66;03m# set socket timeouts\u001b[39;00m\n\u001b[0;32m    322\u001b[0m \u001b[38;5;66;03m# for timeout, interval in ((socket.SO_SNDTIMEO, write_timeout),\u001b[39;00m\n\u001b[0;32m    323\u001b[0m \u001b[38;5;66;03m#                           (socket.SO_RCVTIMEO, read_timeout)):\u001b[39;00m\n\u001b[1;32m   (...)\u001b[0m\n\u001b[0;32m    329\u001b[0m \u001b[38;5;66;03m#             pack('ll', sec, usec),\u001b[39;00m\n\u001b[0;32m    330\u001b[0m \u001b[38;5;66;03m#         )\u001b[39;00m\n\u001b[1;32m--> 331\u001b[0m \u001b[38;5;28;43mself\u001b[39;49m\u001b[38;5;241;43m.\u001b[39;49m\u001b[43m_setup_transport\u001b[49m\u001b[43m(\u001b[49m\u001b[43m)\u001b[49m\n\u001b[0;32m    332\u001b[0m \u001b[38;5;28mself\u001b[39m\u001b[38;5;241m.\u001b[39msock\u001b[38;5;241m.\u001b[39msettimeout(socket_timeout)\n",
      "File \u001b[1;32mc:\\Users\\FarisAlanazi\\miniconda3\\envs\\event_hubs\\lib\\site-packages\\azure\\eventhub\\_pyamqp\\_transport.py:512\u001b[0m, in \u001b[0;36mSSLTransport._setup_transport\u001b[1;34m(self)\u001b[0m\n\u001b[0;32m    510\u001b[0m \u001b[38;5;28;01mdef\u001b[39;00m \u001b[38;5;21m_setup_transport\u001b[39m(\u001b[38;5;28mself\u001b[39m):\n\u001b[0;32m    511\u001b[0m \u001b[38;5;250m    \u001b[39m\u001b[38;5;124;03m\"\"\"Wrap the socket in an SSL object.\"\"\"\u001b[39;00m\n\u001b[1;32m--> 512\u001b[0m     \u001b[38;5;28mself\u001b[39m\u001b[38;5;241m.\u001b[39msock \u001b[38;5;241m=\u001b[39m \u001b[38;5;28mself\u001b[39m\u001b[38;5;241m.\u001b[39m_wrap_socket(\u001b[38;5;28mself\u001b[39m\u001b[38;5;241m.\u001b[39msock, \u001b[38;5;241m*\u001b[39m\u001b[38;5;241m*\u001b[39m\u001b[38;5;28mself\u001b[39m\u001b[38;5;241m.\u001b[39msslopts)\n\u001b[0;32m    513\u001b[0m     \u001b[38;5;28mself\u001b[39m\u001b[38;5;241m.\u001b[39m_quick_recv \u001b[38;5;241m=\u001b[39m \u001b[38;5;28mself\u001b[39m\u001b[38;5;241m.\u001b[39msock\u001b[38;5;241m.\u001b[39mrecv\n",
      "File \u001b[1;32mc:\\Users\\FarisAlanazi\\miniconda3\\envs\\event_hubs\\lib\\site-packages\\azure\\eventhub\\_pyamqp\\_transport.py:518\u001b[0m, in \u001b[0;36mSSLTransport._wrap_socket\u001b[1;34m(self, sock, context, **sslopts)\u001b[0m\n\u001b[0;32m    516\u001b[0m \u001b[38;5;28;01mif\u001b[39;00m context:\n\u001b[0;32m    517\u001b[0m     \u001b[38;5;28;01mreturn\u001b[39;00m \u001b[38;5;28mself\u001b[39m\u001b[38;5;241m.\u001b[39m_wrap_context(sock, sslopts, \u001b[38;5;241m*\u001b[39m\u001b[38;5;241m*\u001b[39mcontext)\n\u001b[1;32m--> 518\u001b[0m \u001b[38;5;28;01mreturn\u001b[39;00m \u001b[38;5;28mself\u001b[39m\u001b[38;5;241m.\u001b[39m_wrap_socket_sni(sock, \u001b[38;5;241m*\u001b[39m\u001b[38;5;241m*\u001b[39msslopts)\n",
      "File \u001b[1;32mc:\\Users\\FarisAlanazi\\miniconda3\\envs\\event_hubs\\lib\\site-packages\\azure\\eventhub\\_pyamqp\\_transport.py:595\u001b[0m, in \u001b[0;36mSSLTransport._wrap_socket_sni\u001b[1;34m(self, sock, keyfile, certfile, cert_reqs, ca_certs, do_handshake_on_connect, suppress_ragged_eofs, server_hostname, ciphers, ssl_version)\u001b[0m\n\u001b[0;32m    592\u001b[0m     context\u001b[38;5;241m.\u001b[39mcheck_hostname \u001b[38;5;241m=\u001b[39m \u001b[38;5;28;01mFalse\u001b[39;00m\n\u001b[0;32m    593\u001b[0m     context\u001b[38;5;241m.\u001b[39mverify_mode \u001b[38;5;241m=\u001b[39m cert_reqs\n\u001b[1;32m--> 595\u001b[0m sock \u001b[38;5;241m=\u001b[39m context\u001b[38;5;241m.\u001b[39mwrap_socket(\u001b[38;5;241m*\u001b[39m\u001b[38;5;241m*\u001b[39mopts)\n\u001b[0;32m    596\u001b[0m \u001b[38;5;28;01mreturn\u001b[39;00m sock\n",
      "File \u001b[1;32mc:\\Users\\FarisAlanazi\\miniconda3\\envs\\event_hubs\\lib\\ssl.py:513\u001b[0m, in \u001b[0;36mSSLContext.wrap_socket\u001b[1;34m(self, sock, server_side, do_handshake_on_connect, suppress_ragged_eofs, server_hostname, session)\u001b[0m\n\u001b[0;32m    507\u001b[0m \u001b[38;5;28;01mdef\u001b[39;00m \u001b[38;5;21mwrap_socket\u001b[39m(\u001b[38;5;28mself\u001b[39m, sock, server_side\u001b[38;5;241m=\u001b[39m\u001b[38;5;28;01mFalse\u001b[39;00m,\n\u001b[0;32m    508\u001b[0m                 do_handshake_on_connect\u001b[38;5;241m=\u001b[39m\u001b[38;5;28;01mTrue\u001b[39;00m,\n\u001b[0;32m    509\u001b[0m                 suppress_ragged_eofs\u001b[38;5;241m=\u001b[39m\u001b[38;5;28;01mTrue\u001b[39;00m,\n\u001b[0;32m    510\u001b[0m                 server_hostname\u001b[38;5;241m=\u001b[39m\u001b[38;5;28;01mNone\u001b[39;00m, session\u001b[38;5;241m=\u001b[39m\u001b[38;5;28;01mNone\u001b[39;00m):\n\u001b[0;32m    511\u001b[0m     \u001b[38;5;66;03m# SSLSocket class handles server_hostname encoding before it calls\u001b[39;00m\n\u001b[0;32m    512\u001b[0m     \u001b[38;5;66;03m# ctx._wrap_socket()\u001b[39;00m\n\u001b[1;32m--> 513\u001b[0m     \u001b[38;5;28;01mreturn\u001b[39;00m \u001b[38;5;28;43mself\u001b[39;49m\u001b[38;5;241;43m.\u001b[39;49m\u001b[43msslsocket_class\u001b[49m\u001b[38;5;241;43m.\u001b[39;49m\u001b[43m_create\u001b[49m\u001b[43m(\u001b[49m\n\u001b[0;32m    514\u001b[0m \u001b[43m        \u001b[49m\u001b[43msock\u001b[49m\u001b[38;5;241;43m=\u001b[39;49m\u001b[43msock\u001b[49m\u001b[43m,\u001b[49m\n\u001b[0;32m    515\u001b[0m \u001b[43m        \u001b[49m\u001b[43mserver_side\u001b[49m\u001b[38;5;241;43m=\u001b[39;49m\u001b[43mserver_side\u001b[49m\u001b[43m,\u001b[49m\n\u001b[0;32m    516\u001b[0m \u001b[43m        \u001b[49m\u001b[43mdo_handshake_on_connect\u001b[49m\u001b[38;5;241;43m=\u001b[39;49m\u001b[43mdo_handshake_on_connect\u001b[49m\u001b[43m,\u001b[49m\n\u001b[0;32m    517\u001b[0m \u001b[43m        \u001b[49m\u001b[43msuppress_ragged_eofs\u001b[49m\u001b[38;5;241;43m=\u001b[39;49m\u001b[43msuppress_ragged_eofs\u001b[49m\u001b[43m,\u001b[49m\n\u001b[0;32m    518\u001b[0m \u001b[43m        \u001b[49m\u001b[43mserver_hostname\u001b[49m\u001b[38;5;241;43m=\u001b[39;49m\u001b[43mserver_hostname\u001b[49m\u001b[43m,\u001b[49m\n\u001b[0;32m    519\u001b[0m \u001b[43m        \u001b[49m\u001b[43mcontext\u001b[49m\u001b[38;5;241;43m=\u001b[39;49m\u001b[38;5;28;43mself\u001b[39;49m\u001b[43m,\u001b[49m\n\u001b[0;32m    520\u001b[0m \u001b[43m        \u001b[49m\u001b[43msession\u001b[49m\u001b[38;5;241;43m=\u001b[39;49m\u001b[43msession\u001b[49m\n\u001b[0;32m    521\u001b[0m \u001b[43m    \u001b[49m\u001b[43m)\u001b[49m\n",
      "File \u001b[1;32mc:\\Users\\FarisAlanazi\\miniconda3\\envs\\event_hubs\\lib\\ssl.py:1104\u001b[0m, in \u001b[0;36mSSLSocket._create\u001b[1;34m(cls, sock, server_side, do_handshake_on_connect, suppress_ragged_eofs, server_hostname, context, session)\u001b[0m\n\u001b[0;32m   1101\u001b[0m         \u001b[38;5;28;01mif\u001b[39;00m timeout \u001b[38;5;241m==\u001b[39m \u001b[38;5;241m0.0\u001b[39m:\n\u001b[0;32m   1102\u001b[0m             \u001b[38;5;66;03m# non-blocking\u001b[39;00m\n\u001b[0;32m   1103\u001b[0m             \u001b[38;5;28;01mraise\u001b[39;00m \u001b[38;5;167;01mValueError\u001b[39;00m(\u001b[38;5;124m\"\u001b[39m\u001b[38;5;124mdo_handshake_on_connect should not be specified for non-blocking sockets\u001b[39m\u001b[38;5;124m\"\u001b[39m)\n\u001b[1;32m-> 1104\u001b[0m         \u001b[38;5;28;43mself\u001b[39;49m\u001b[38;5;241;43m.\u001b[39;49m\u001b[43mdo_handshake\u001b[49m\u001b[43m(\u001b[49m\u001b[43m)\u001b[49m\n\u001b[0;32m   1105\u001b[0m \u001b[38;5;28;01mexcept\u001b[39;00m (\u001b[38;5;167;01mOSError\u001b[39;00m, \u001b[38;5;167;01mValueError\u001b[39;00m):\n\u001b[0;32m   1106\u001b[0m     \u001b[38;5;28mself\u001b[39m\u001b[38;5;241m.\u001b[39mclose()\n",
      "File \u001b[1;32mc:\\Users\\FarisAlanazi\\miniconda3\\envs\\event_hubs\\lib\\ssl.py:1375\u001b[0m, in \u001b[0;36mSSLSocket.do_handshake\u001b[1;34m(self, block)\u001b[0m\n\u001b[0;32m   1373\u001b[0m     \u001b[38;5;28;01mif\u001b[39;00m timeout \u001b[38;5;241m==\u001b[39m \u001b[38;5;241m0.0\u001b[39m \u001b[38;5;129;01mand\u001b[39;00m block:\n\u001b[0;32m   1374\u001b[0m         \u001b[38;5;28mself\u001b[39m\u001b[38;5;241m.\u001b[39msettimeout(\u001b[38;5;28;01mNone\u001b[39;00m)\n\u001b[1;32m-> 1375\u001b[0m     \u001b[38;5;28;43mself\u001b[39;49m\u001b[38;5;241;43m.\u001b[39;49m\u001b[43m_sslobj\u001b[49m\u001b[38;5;241;43m.\u001b[39;49m\u001b[43mdo_handshake\u001b[49m\u001b[43m(\u001b[49m\u001b[43m)\u001b[49m\n\u001b[0;32m   1376\u001b[0m \u001b[38;5;28;01mfinally\u001b[39;00m:\n\u001b[0;32m   1377\u001b[0m     \u001b[38;5;28mself\u001b[39m\u001b[38;5;241m.\u001b[39msettimeout(timeout)\n",
      "\u001b[1;31mKeyboardInterrupt\u001b[0m: "
     ]
    }
   ],
   "source": [
    "# Example usage\n",
    "connection_string, event_hub_name = read_config_from_toml('config.toml')\n",
    "consumer_group = \"$Default\"  \n",
    "\n",
    "receive_events_from_event_hub(connection_string, event_hub_name, consumer_group)"
   ]
  }
 ],
 "metadata": {
  "kernelspec": {
   "display_name": "event_hubs",
   "language": "python",
   "name": "python3"
  },
  "language_info": {
   "codemirror_mode": {
    "name": "ipython",
    "version": 3
   },
   "file_extension": ".py",
   "mimetype": "text/x-python",
   "name": "python",
   "nbconvert_exporter": "python",
   "pygments_lexer": "ipython3",
   "version": "3.10.13"
  }
 },
 "nbformat": 4,
 "nbformat_minor": 2
}
