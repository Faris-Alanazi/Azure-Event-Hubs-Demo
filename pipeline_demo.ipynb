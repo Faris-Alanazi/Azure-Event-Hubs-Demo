{
 "cells": [
  {
   "cell_type": "code",
   "execution_count": 22,
   "metadata": {},
   "outputs": [
    {
     "name": "stdout",
     "output_type": "stream",
     "text": [
      "Requirement already satisfied: azure-eventhub==5.11.6 in c:\\users\\farisalanazi\\miniconda3\\envs\\event_hubs\\lib\\site-packages (5.11.6)\n",
      "Requirement already satisfied: azure-core<2.0.0,>=1.14.0 in c:\\users\\farisalanazi\\miniconda3\\envs\\event_hubs\\lib\\site-packages (from azure-eventhub==5.11.6) (1.30.0)\n",
      "Requirement already satisfied: typing-extensions>=4.0.1 in c:\\users\\farisalanazi\\miniconda3\\envs\\event_hubs\\lib\\site-packages (from azure-eventhub==5.11.6) (4.9.0)\n",
      "Requirement already satisfied: requests>=2.21.0 in c:\\users\\farisalanazi\\miniconda3\\envs\\event_hubs\\lib\\site-packages (from azure-core<2.0.0,>=1.14.0->azure-eventhub==5.11.6) (2.31.0)\n",
      "Requirement already satisfied: six>=1.11.0 in c:\\users\\farisalanazi\\miniconda3\\envs\\event_hubs\\lib\\site-packages (from azure-core<2.0.0,>=1.14.0->azure-eventhub==5.11.6) (1.16.0)\n",
      "Requirement already satisfied: charset-normalizer<4,>=2 in c:\\users\\farisalanazi\\miniconda3\\envs\\event_hubs\\lib\\site-packages (from requests>=2.21.0->azure-core<2.0.0,>=1.14.0->azure-eventhub==5.11.6) (3.3.2)\n",
      "Requirement already satisfied: idna<4,>=2.5 in c:\\users\\farisalanazi\\miniconda3\\envs\\event_hubs\\lib\\site-packages (from requests>=2.21.0->azure-core<2.0.0,>=1.14.0->azure-eventhub==5.11.6) (3.6)\n",
      "Requirement already satisfied: urllib3<3,>=1.21.1 in c:\\users\\farisalanazi\\miniconda3\\envs\\event_hubs\\lib\\site-packages (from requests>=2.21.0->azure-core<2.0.0,>=1.14.0->azure-eventhub==5.11.6) (2.2.0)\n",
      "Requirement already satisfied: certifi>=2017.4.17 in c:\\users\\farisalanazi\\miniconda3\\envs\\event_hubs\\lib\\site-packages (from requests>=2.21.0->azure-core<2.0.0,>=1.14.0->azure-eventhub==5.11.6) (2024.2.2)\n"
     ]
    }
   ],
   "source": [
    "# python kernal version 3.10\n",
    "!pip install azure-eventhub==5.11.6 "
   ]
  },
  {
   "cell_type": "code",
   "execution_count": 29,
   "metadata": {},
   "outputs": [],
   "source": [
    "import toml\n",
    "import json\n",
    "from azure.eventhub import EventHubProducerClient, EventData"
   ]
  },
  {
   "cell_type": "code",
   "execution_count": 30,
   "metadata": {},
   "outputs": [],
   "source": [
    "def send_events_to_event_hub(connection_str, event_hub_name, user_data):\n",
    "    producer = EventHubProducerClient.from_connection_string(conn_str=connection_str, eventhub_name=event_hub_name)\n",
    "    try:\n",
    "        # Ensure user_data is serialized and encoded into bytes\n",
    "        if isinstance(user_data, dict):  # Assuming user_data is a dictionary\n",
    "            user_data = json.dumps(user_data).encode('utf-8')\n",
    "        \n",
    "        event_batch = producer.create_batch()\n",
    "        event_batch.add(EventData(user_data))\n",
    "        producer.send_batch(event_batch)\n",
    "        print(\"Event data sent to Event Hub\")\n",
    "    except Exception as e:\n",
    "        print(f\"Failed to send event: {e}\")\n",
    "    finally:\n",
    "        producer.close()"
   ]
  },
  {
   "cell_type": "code",
   "execution_count": 31,
   "metadata": {},
   "outputs": [],
   "source": [
    "def read_config_from_toml(file_path):\n",
    "    \"\"\"\n",
    "    Reads the configuration from a TOML file.\n",
    "\n",
    "    Parameters:\n",
    "    - file_path: Path to the TOML configuration file.\n",
    "\n",
    "    Returns:\n",
    "    A tuple containing the connection string and Event Hub name.\n",
    "    \"\"\"\n",
    "    config = toml.load(file_path)\n",
    "    return config['event_hub']['connection_string'], config['event_hub']['name']"
   ]
  },
  {
   "cell_type": "code",
   "execution_count": 32,
   "metadata": {},
   "outputs": [
    {
     "name": "stdout",
     "output_type": "stream",
     "text": [
      "User data loaded successfully.\n",
      "{'user_id': 123, 'user_name': 'Anas'}\n"
     ]
    }
   ],
   "source": [
    "def load_user_data_from_json(file_path):\n",
    "    \"\"\"\n",
    "    Loads user data from a JSON file.\n",
    "\n",
    "    Parameters:\n",
    "    - file_path: Path to the JSON file containing user data.\n",
    "\n",
    "    Returns:\n",
    "    A Python data structure containing the user data loaded from the JSON file.\n",
    "    \"\"\"\n",
    "    try:\n",
    "        with open(file_path, 'r') as file:\n",
    "            user_data = json.load(file)\n",
    "            return user_data\n",
    "    except FileNotFoundError:\n",
    "        print(\"The file was not found.\")\n",
    "        return None\n",
    "    except json.JSONDecodeError:\n",
    "        print(\"Error decoding JSON.\")\n",
    "        return None\n",
    "\n",
    "# Example usage\n",
    "json_file_path = 'users_data.json'\n",
    "users_data = load_user_data_from_json(json_file_path)\n",
    "\n",
    "if users_data:\n",
    "    print(\"User data loaded successfully.\")\n",
    "    print(users_data)\n",
    "else:\n",
    "    print(\"Failed to load user data.\")"
   ]
  },
  {
   "cell_type": "code",
   "execution_count": 33,
   "metadata": {},
   "outputs": [],
   "source": [
    "# Example usage\n",
    "config_file_path = 'config.toml'\n",
    "connection_string, event_hub_name = read_config_from_toml(config_file_path)"
   ]
  },
  {
   "cell_type": "code",
   "execution_count": 34,
   "metadata": {},
   "outputs": [
    {
     "name": "stdout",
     "output_type": "stream",
     "text": [
      "Event data sent to Event Hub\n"
     ]
    }
   ],
   "source": [
    "send_events_to_event_hub(connection_string, event_hub_name, users_data)"
   ]
  },
  {
   "cell_type": "code",
   "execution_count": null,
   "metadata": {},
   "outputs": [],
   "source": []
  }
 ],
 "metadata": {
  "kernelspec": {
   "display_name": "event_hubs",
   "language": "python",
   "name": "python3"
  },
  "language_info": {
   "codemirror_mode": {
    "name": "ipython",
    "version": 3
   },
   "file_extension": ".py",
   "mimetype": "text/x-python",
   "name": "python",
   "nbconvert_exporter": "python",
   "pygments_lexer": "ipython3",
   "version": "3.10.13"
  }
 },
 "nbformat": 4,
 "nbformat_minor": 2
}
