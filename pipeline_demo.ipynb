{
 "cells": [
  {
   "cell_type": "code",
   "execution_count": 14,
   "metadata": {},
   "outputs": [
    {
     "name": "stdout",
     "output_type": "stream",
     "text": [
      "Requirement already satisfied: azure-eventhub==5.11.6 in c:\\users\\farisalanazi\\miniconda3\\envs\\event_hubs\\lib\\site-packages (5.11.6)\n",
      "Requirement already satisfied: azure-core<2.0.0,>=1.14.0 in c:\\users\\farisalanazi\\miniconda3\\envs\\event_hubs\\lib\\site-packages (from azure-eventhub==5.11.6) (1.30.0)\n",
      "Requirement already satisfied: typing-extensions>=4.0.1 in c:\\users\\farisalanazi\\miniconda3\\envs\\event_hubs\\lib\\site-packages (from azure-eventhub==5.11.6) (4.9.0)\n",
      "Requirement already satisfied: requests>=2.21.0 in c:\\users\\farisalanazi\\miniconda3\\envs\\event_hubs\\lib\\site-packages (from azure-core<2.0.0,>=1.14.0->azure-eventhub==5.11.6) (2.31.0)\n",
      "Requirement already satisfied: six>=1.11.0 in c:\\users\\farisalanazi\\miniconda3\\envs\\event_hubs\\lib\\site-packages (from azure-core<2.0.0,>=1.14.0->azure-eventhub==5.11.6) (1.16.0)\n",
      "Requirement already satisfied: charset-normalizer<4,>=2 in c:\\users\\farisalanazi\\miniconda3\\envs\\event_hubs\\lib\\site-packages (from requests>=2.21.0->azure-core<2.0.0,>=1.14.0->azure-eventhub==5.11.6) (3.3.2)\n",
      "Requirement already satisfied: idna<4,>=2.5 in c:\\users\\farisalanazi\\miniconda3\\envs\\event_hubs\\lib\\site-packages (from requests>=2.21.0->azure-core<2.0.0,>=1.14.0->azure-eventhub==5.11.6) (3.6)\n",
      "Requirement already satisfied: urllib3<3,>=1.21.1 in c:\\users\\farisalanazi\\miniconda3\\envs\\event_hubs\\lib\\site-packages (from requests>=2.21.0->azure-core<2.0.0,>=1.14.0->azure-eventhub==5.11.6) (2.2.0)\n",
      "Requirement already satisfied: certifi>=2017.4.17 in c:\\users\\farisalanazi\\miniconda3\\envs\\event_hubs\\lib\\site-packages (from requests>=2.21.0->azure-core<2.0.0,>=1.14.0->azure-eventhub==5.11.6) (2024.2.2)\n"
     ]
    }
   ],
   "source": [
    "# python kernal version 3.10\n",
    "!pip install azure-eventhub==5.11.6 "
   ]
  },
  {
   "cell_type": "code",
   "execution_count": 15,
   "metadata": {},
   "outputs": [],
   "source": [
    "import toml\n",
    "import json\n",
    "from azure.eventhub import EventHubProducerClient, EventData"
   ]
  },
  {
   "cell_type": "code",
   "execution_count": 16,
   "metadata": {},
   "outputs": [],
   "source": [
    "def send_events_to_event_hub(connection_str, event_hub_name, user_data):\n",
    "    producer = EventHubProducerClient.from_connection_string(conn_str=connection_str, eventhub_name=event_hub_name)\n",
    "    try:\n",
    "        event_batch = producer.create_batch()\n",
    "        event_batch.add(EventData(user_data))\n",
    "        producer.send_batch(event_batch)\n",
    "        print(\"Event data sent to Event Hub\")\n",
    "    except Exception as e:\n",
    "        print(f\"Failed to send event: {e}\")\n",
    "    finally:\n",
    "        producer.close()"
   ]
  },
  {
   "cell_type": "code",
   "execution_count": 17,
   "metadata": {},
   "outputs": [],
   "source": [
    "def read_config_from_toml(file_path):\n",
    "    \"\"\"\n",
    "    Reads the configuration from a TOML file.\n",
    "\n",
    "    Parameters:\n",
    "    - file_path: Path to the TOML configuration file.\n",
    "\n",
    "    Returns:\n",
    "    A tuple containing the connection string and Event Hub name.\n",
    "    \"\"\"\n",
    "    config = toml.load(file_path)\n",
    "    return config['event_hub']['connection_string'], config['event_hub']['name']"
   ]
  },
  {
   "cell_type": "code",
   "execution_count": 18,
   "metadata": {},
   "outputs": [
    {
     "name": "stdout",
     "output_type": "stream",
     "text": [
      "User data loaded successfully.\n",
      "{'user_id': 123, 'user_name': 'Anas'}\n"
     ]
    }
   ],
   "source": [
    "def load_user_data_from_json(file_path):\n",
    "    \"\"\"\n",
    "    Loads user data from a JSON file.\n",
    "\n",
    "    Parameters:\n",
    "    - file_path: Path to the JSON file containing user data.\n",
    "\n",
    "    Returns:\n",
    "    A Python data structure containing the user data loaded from the JSON file.\n",
    "    \"\"\"\n",
    "    try:\n",
    "        with open(file_path, 'r') as file:\n",
    "            user_data = json.load(file)\n",
    "            return user_data\n",
    "    except FileNotFoundError:\n",
    "        print(\"The file was not found.\")\n",
    "        return None\n",
    "    except json.JSONDecodeError:\n",
    "        print(\"Error decoding JSON.\")\n",
    "        return None\n",
    "\n",
    "# Example usage\n",
    "json_file_path = 'users_data.json'\n",
    "users_data = load_user_data_from_json(json_file_path)\n",
    "\n",
    "if users_data:\n",
    "    print(\"User data loaded successfully.\")\n",
    "    print(users_data)\n",
    "else:\n",
    "    print(\"Failed to load user data.\")"
   ]
  },
  {
   "cell_type": "code",
   "execution_count": 19,
   "metadata": {},
   "outputs": [],
   "source": [
    "# Example usage\n",
    "config_file_path = 'config.toml'\n",
    "connection_string, event_hub_name = read_config_from_toml(config_file_path)"
   ]
  },
  {
   "cell_type": "code",
   "execution_count": 21,
   "metadata": {},
   "outputs": [
    {
     "ename": "ValueError",
     "evalue": "Connection string is either blank or malformed.",
     "output_type": "error",
     "traceback": [
      "\u001b[1;31m---------------------------------------------------------------------------\u001b[0m",
      "\u001b[1;31mValueError\u001b[0m                                Traceback (most recent call last)",
      "Cell \u001b[1;32mIn[21], line 1\u001b[0m\n\u001b[1;32m----> 1\u001b[0m \u001b[43msend_events_to_event_hub\u001b[49m\u001b[43m(\u001b[49m\u001b[43mconnection_string\u001b[49m\u001b[43m,\u001b[49m\u001b[43m \u001b[49m\u001b[43mevent_hub_name\u001b[49m\u001b[43m,\u001b[49m\u001b[43m \u001b[49m\u001b[43musers_data\u001b[49m\u001b[43m)\u001b[49m\n",
      "Cell \u001b[1;32mIn[16], line 2\u001b[0m, in \u001b[0;36msend_events_to_event_hub\u001b[1;34m(connection_str, event_hub_name, user_data)\u001b[0m\n\u001b[0;32m      1\u001b[0m \u001b[38;5;28;01mdef\u001b[39;00m \u001b[38;5;21msend_events_to_event_hub\u001b[39m(connection_str, event_hub_name, user_data):\n\u001b[1;32m----> 2\u001b[0m     producer \u001b[38;5;241m=\u001b[39m \u001b[43mEventHubProducerClient\u001b[49m\u001b[38;5;241;43m.\u001b[39;49m\u001b[43mfrom_connection_string\u001b[49m\u001b[43m(\u001b[49m\u001b[43mconn_str\u001b[49m\u001b[38;5;241;43m=\u001b[39;49m\u001b[43mconnection_str\u001b[49m\u001b[43m,\u001b[49m\u001b[43m \u001b[49m\u001b[43meventhub_name\u001b[49m\u001b[38;5;241;43m=\u001b[39;49m\u001b[43mevent_hub_name\u001b[49m\u001b[43m)\u001b[49m\n\u001b[0;32m      3\u001b[0m     \u001b[38;5;28;01mtry\u001b[39;00m:\n\u001b[0;32m      4\u001b[0m         event_batch \u001b[38;5;241m=\u001b[39m producer\u001b[38;5;241m.\u001b[39mcreate_batch()\n",
      "File \u001b[1;32mc:\\Users\\FarisAlanazi\\miniconda3\\envs\\event_hubs\\lib\\site-packages\\azure\\eventhub\\_producer_client.py:536\u001b[0m, in \u001b[0;36mEventHubProducerClient.from_connection_string\u001b[1;34m(cls, conn_str, eventhub_name, buffered_mode, on_error, on_success, max_buffer_length, max_wait_time, **kwargs)\u001b[0m\n\u001b[0;32m    423\u001b[0m \u001b[38;5;129m@classmethod\u001b[39m\n\u001b[0;32m    424\u001b[0m \u001b[38;5;28;01mdef\u001b[39;00m \u001b[38;5;21mfrom_connection_string\u001b[39m(\n\u001b[0;32m    425\u001b[0m     \u001b[38;5;28mcls\u001b[39m,\n\u001b[1;32m   (...)\u001b[0m\n\u001b[0;32m    436\u001b[0m     \u001b[38;5;241m*\u001b[39m\u001b[38;5;241m*\u001b[39mkwargs: Any\n\u001b[0;32m    437\u001b[0m ) \u001b[38;5;241m-\u001b[39m\u001b[38;5;241m>\u001b[39m \u001b[38;5;124m\"\u001b[39m\u001b[38;5;124mEventHubProducerClient\u001b[39m\u001b[38;5;124m\"\u001b[39m:\n\u001b[0;32m    438\u001b[0m \u001b[38;5;250m    \u001b[39m\u001b[38;5;124;03m\"\"\"Create an EventHubProducerClient from a connection string.\u001b[39;00m\n\u001b[0;32m    439\u001b[0m \n\u001b[0;32m    440\u001b[0m \u001b[38;5;124;03m    :param str conn_str: The connection string of an Event Hub.\u001b[39;00m\n\u001b[1;32m   (...)\u001b[0m\n\u001b[0;32m    534\u001b[0m \u001b[38;5;124;03m            :caption: Create a new instance of the EventHubProducerClient from connection string.\u001b[39;00m\n\u001b[0;32m    535\u001b[0m \u001b[38;5;124;03m    \"\"\"\u001b[39;00m\n\u001b[1;32m--> 536\u001b[0m     constructor_args \u001b[38;5;241m=\u001b[39m \u001b[38;5;28mcls\u001b[39m\u001b[38;5;241m.\u001b[39m_from_connection_string(\n\u001b[0;32m    537\u001b[0m         conn_str,\n\u001b[0;32m    538\u001b[0m         eventhub_name\u001b[38;5;241m=\u001b[39meventhub_name,\n\u001b[0;32m    539\u001b[0m         buffered_mode\u001b[38;5;241m=\u001b[39mbuffered_mode,\n\u001b[0;32m    540\u001b[0m         on_success\u001b[38;5;241m=\u001b[39mon_success,\n\u001b[0;32m    541\u001b[0m         on_error\u001b[38;5;241m=\u001b[39mon_error,\n\u001b[0;32m    542\u001b[0m         max_buffer_length\u001b[38;5;241m=\u001b[39mmax_buffer_length,\n\u001b[0;32m    543\u001b[0m         max_wait_time\u001b[38;5;241m=\u001b[39mmax_wait_time,\n\u001b[0;32m    544\u001b[0m         \u001b[38;5;241m*\u001b[39m\u001b[38;5;241m*\u001b[39mkwargs\n\u001b[0;32m    545\u001b[0m     )\n\u001b[0;32m    546\u001b[0m     \u001b[38;5;28;01mreturn\u001b[39;00m \u001b[38;5;28mcls\u001b[39m(\u001b[38;5;241m*\u001b[39m\u001b[38;5;241m*\u001b[39mconstructor_args)\n",
      "File \u001b[1;32mc:\\Users\\FarisAlanazi\\miniconda3\\envs\\event_hubs\\lib\\site-packages\\azure\\eventhub\\_client_base.py:330\u001b[0m, in \u001b[0;36mClientBase._from_connection_string\u001b[1;34m(conn_str, **kwargs)\u001b[0m\n\u001b[0;32m    328\u001b[0m \u001b[38;5;129m@staticmethod\u001b[39m\n\u001b[0;32m    329\u001b[0m \u001b[38;5;28;01mdef\u001b[39;00m \u001b[38;5;21m_from_connection_string\u001b[39m(conn_str: \u001b[38;5;28mstr\u001b[39m, \u001b[38;5;241m*\u001b[39m\u001b[38;5;241m*\u001b[39mkwargs: Any) \u001b[38;5;241m-\u001b[39m\u001b[38;5;241m>\u001b[39m Dict[\u001b[38;5;28mstr\u001b[39m, Any]:\n\u001b[1;32m--> 330\u001b[0m     host, policy, key, entity, token, token_expiry \u001b[38;5;241m=\u001b[39m _parse_conn_str(\n\u001b[0;32m    331\u001b[0m         conn_str, \u001b[38;5;241m*\u001b[39m\u001b[38;5;241m*\u001b[39mkwargs\n\u001b[0;32m    332\u001b[0m     )\n\u001b[0;32m    333\u001b[0m     kwargs[\u001b[38;5;124m\"\u001b[39m\u001b[38;5;124mfully_qualified_namespace\u001b[39m\u001b[38;5;124m\"\u001b[39m] \u001b[38;5;241m=\u001b[39m host\n\u001b[0;32m    334\u001b[0m     kwargs[\u001b[38;5;124m\"\u001b[39m\u001b[38;5;124meventhub_name\u001b[39m\u001b[38;5;124m\"\u001b[39m] \u001b[38;5;241m=\u001b[39m entity\n",
      "File \u001b[1;32mc:\\Users\\FarisAlanazi\\miniconda3\\envs\\event_hubs\\lib\\site-packages\\azure\\eventhub\\_client_base.py:85\u001b[0m, in \u001b[0;36m_parse_conn_str\u001b[1;34m(conn_str, eventhub_name, check_case, **kwargs)\u001b[0m\n\u001b[0;32m     83\u001b[0m shared_access_signature: Optional[\u001b[38;5;28mstr\u001b[39m] \u001b[38;5;241m=\u001b[39m \u001b[38;5;28;01mNone\u001b[39;00m\n\u001b[0;32m     84\u001b[0m shared_access_signature_expiry \u001b[38;5;241m=\u001b[39m \u001b[38;5;28;01mNone\u001b[39;00m\n\u001b[1;32m---> 85\u001b[0m conn_settings \u001b[38;5;241m=\u001b[39m \u001b[43mcore_parse_connection_string\u001b[49m\u001b[43m(\u001b[49m\n\u001b[0;32m     86\u001b[0m \u001b[43m    \u001b[49m\u001b[43mconn_str\u001b[49m\u001b[43m,\u001b[49m\u001b[43m \u001b[49m\u001b[43mcase_sensitive_keys\u001b[49m\u001b[38;5;241;43m=\u001b[39;49m\u001b[43mcheck_case\u001b[49m\n\u001b[0;32m     87\u001b[0m \u001b[43m\u001b[49m\u001b[43m)\u001b[49m\n\u001b[0;32m     88\u001b[0m \u001b[38;5;28;01mif\u001b[39;00m check_case:\n\u001b[0;32m     89\u001b[0m     shared_access_key \u001b[38;5;241m=\u001b[39m conn_settings\u001b[38;5;241m.\u001b[39mget(\u001b[38;5;124m\"\u001b[39m\u001b[38;5;124mSharedAccessKey\u001b[39m\u001b[38;5;124m\"\u001b[39m)\n",
      "File \u001b[1;32mc:\\Users\\FarisAlanazi\\miniconda3\\envs\\event_hubs\\lib\\site-packages\\azure\\core\\utils\\_connection_string_parser.py:28\u001b[0m, in \u001b[0;36mparse_connection_string\u001b[1;34m(conn_str, case_sensitive_keys)\u001b[0m\n\u001b[0;32m     26\u001b[0m cs_args \u001b[38;5;241m=\u001b[39m [s\u001b[38;5;241m.\u001b[39msplit(\u001b[38;5;124m\"\u001b[39m\u001b[38;5;124m=\u001b[39m\u001b[38;5;124m\"\u001b[39m, \u001b[38;5;241m1\u001b[39m) \u001b[38;5;28;01mfor\u001b[39;00m s \u001b[38;5;129;01min\u001b[39;00m conn_str\u001b[38;5;241m.\u001b[39mstrip()\u001b[38;5;241m.\u001b[39mrstrip(\u001b[38;5;124m\"\u001b[39m\u001b[38;5;124m;\u001b[39m\u001b[38;5;124m\"\u001b[39m)\u001b[38;5;241m.\u001b[39msplit(\u001b[38;5;124m\"\u001b[39m\u001b[38;5;124m;\u001b[39m\u001b[38;5;124m\"\u001b[39m)]\n\u001b[0;32m     27\u001b[0m \u001b[38;5;28;01mif\u001b[39;00m \u001b[38;5;28many\u001b[39m(\u001b[38;5;28mlen\u001b[39m(tup) \u001b[38;5;241m!=\u001b[39m \u001b[38;5;241m2\u001b[39m \u001b[38;5;129;01mor\u001b[39;00m \u001b[38;5;129;01mnot\u001b[39;00m \u001b[38;5;28mall\u001b[39m(tup) \u001b[38;5;28;01mfor\u001b[39;00m tup \u001b[38;5;129;01min\u001b[39;00m cs_args):\n\u001b[1;32m---> 28\u001b[0m     \u001b[38;5;28;01mraise\u001b[39;00m \u001b[38;5;167;01mValueError\u001b[39;00m(\u001b[38;5;124m\"\u001b[39m\u001b[38;5;124mConnection string is either blank or malformed.\u001b[39m\u001b[38;5;124m\"\u001b[39m)\n\u001b[0;32m     29\u001b[0m args_dict \u001b[38;5;241m=\u001b[39m \u001b[38;5;28mdict\u001b[39m(cs_args)\n\u001b[0;32m     31\u001b[0m \u001b[38;5;28;01mif\u001b[39;00m \u001b[38;5;28mlen\u001b[39m(cs_args) \u001b[38;5;241m!=\u001b[39m \u001b[38;5;28mlen\u001b[39m(args_dict):\n",
      "\u001b[1;31mValueError\u001b[0m: Connection string is either blank or malformed."
     ]
    }
   ],
   "source": [
    "send_events_to_event_hub(connection_string, event_hub_name, users_data)"
   ]
  },
  {
   "cell_type": "code",
   "execution_count": null,
   "metadata": {},
   "outputs": [],
   "source": []
  }
 ],
 "metadata": {
  "kernelspec": {
   "display_name": "event_hubs",
   "language": "python",
   "name": "python3"
  },
  "language_info": {
   "codemirror_mode": {
    "name": "ipython",
    "version": 3
   },
   "file_extension": ".py",
   "mimetype": "text/x-python",
   "name": "python",
   "nbconvert_exporter": "python",
   "pygments_lexer": "ipython3",
   "version": "3.10.13"
  }
 },
 "nbformat": 4,
 "nbformat_minor": 2
}
